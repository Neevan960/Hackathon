{
 "cells": [
  {
   "cell_type": "markdown",
   "id": "2e6303a6",
   "metadata": {},
   "source": [
    "# Importing Required Libraries"
   ]
  },
  {
   "cell_type": "code",
   "execution_count": 276,
   "id": "1ad86a0a",
   "metadata": {},
   "outputs": [],
   "source": [
    "import pandas as pd\n",
    "import matplotlib.pyplot as plt\n",
    "import seaborn as sns\n",
    "import sklearn\n",
    "import warnings\n",
    "warnings.filterwarnings(\"ignore\")"
   ]
  },
  {
   "cell_type": "markdown",
   "id": "b1e3ec1b",
   "metadata": {},
   "source": [
    "# Reading Data Frame"
   ]
  },
  {
   "cell_type": "code",
   "execution_count": 277,
   "id": "8f1a5e59",
   "metadata": {},
   "outputs": [],
   "source": [
    "df=pd.read_csv(\"dataframe_.csv\")"
   ]
  },
  {
   "cell_type": "code",
   "execution_count": 278,
   "id": "99801ad6",
   "metadata": {},
   "outputs": [
    {
     "data": {
      "text/html": [
       "<div>\n",
       "<style scoped>\n",
       "    .dataframe tbody tr th:only-of-type {\n",
       "        vertical-align: middle;\n",
       "    }\n",
       "\n",
       "    .dataframe tbody tr th {\n",
       "        vertical-align: top;\n",
       "    }\n",
       "\n",
       "    .dataframe thead th {\n",
       "        text-align: right;\n",
       "    }\n",
       "</style>\n",
       "<table border=\"1\" class=\"dataframe\">\n",
       "  <thead>\n",
       "    <tr style=\"text-align: right;\">\n",
       "      <th></th>\n",
       "      <th>input</th>\n",
       "      <th>output</th>\n",
       "    </tr>\n",
       "  </thead>\n",
       "  <tbody>\n",
       "    <tr>\n",
       "      <th>0</th>\n",
       "      <td>-122.740667</td>\n",
       "      <td>-130.572085</td>\n",
       "    </tr>\n",
       "    <tr>\n",
       "      <th>1</th>\n",
       "      <td>-121.531419</td>\n",
       "      <td>-129.938929</td>\n",
       "    </tr>\n",
       "    <tr>\n",
       "      <th>2</th>\n",
       "      <td>-134.917019</td>\n",
       "      <td>-130.141832</td>\n",
       "    </tr>\n",
       "    <tr>\n",
       "      <th>3</th>\n",
       "      <td>-120.605951</td>\n",
       "      <td>-125.760932</td>\n",
       "    </tr>\n",
       "    <tr>\n",
       "      <th>4</th>\n",
       "      <td>-129.894781</td>\n",
       "      <td>-112.785214</td>\n",
       "    </tr>\n",
       "    <tr>\n",
       "      <th>...</th>\n",
       "      <td>...</td>\n",
       "      <td>...</td>\n",
       "    </tr>\n",
       "    <tr>\n",
       "      <th>1692</th>\n",
       "      <td>25.410184</td>\n",
       "      <td>-76.380902</td>\n",
       "    </tr>\n",
       "    <tr>\n",
       "      <th>1693</th>\n",
       "      <td>29.537304</td>\n",
       "      <td>-82.796934</td>\n",
       "    </tr>\n",
       "    <tr>\n",
       "      <th>1694</th>\n",
       "      <td>31.633331</td>\n",
       "      <td>-87.000000</td>\n",
       "    </tr>\n",
       "    <tr>\n",
       "      <th>1695</th>\n",
       "      <td>29.091458</td>\n",
       "      <td>-104.943052</td>\n",
       "    </tr>\n",
       "    <tr>\n",
       "      <th>1696</th>\n",
       "      <td>17.145296</td>\n",
       "      <td>-101.726894</td>\n",
       "    </tr>\n",
       "  </tbody>\n",
       "</table>\n",
       "<p>1697 rows × 2 columns</p>\n",
       "</div>"
      ],
      "text/plain": [
       "           input      output\n",
       "0    -122.740667 -130.572085\n",
       "1    -121.531419 -129.938929\n",
       "2    -134.917019 -130.141832\n",
       "3    -120.605951 -125.760932\n",
       "4    -129.894781 -112.785214\n",
       "...          ...         ...\n",
       "1692   25.410184  -76.380902\n",
       "1693   29.537304  -82.796934\n",
       "1694   31.633331  -87.000000\n",
       "1695   29.091458 -104.943052\n",
       "1696   17.145296 -101.726894\n",
       "\n",
       "[1697 rows x 2 columns]"
      ]
     },
     "execution_count": 278,
     "metadata": {},
     "output_type": "execute_result"
    }
   ],
   "source": [
    "df"
   ]
  },
  {
   "cell_type": "markdown",
   "id": "3782826b",
   "metadata": {},
   "source": [
    "# Finding and removing the null values"
   ]
  },
  {
   "cell_type": "code",
   "execution_count": 279,
   "id": "c96f28b6",
   "metadata": {},
   "outputs": [
    {
     "data": {
      "text/plain": [
       "input     1\n",
       "output    1\n",
       "dtype: int64"
      ]
     },
     "execution_count": 279,
     "metadata": {},
     "output_type": "execute_result"
    }
   ],
   "source": [
    "df.isna().sum()"
   ]
  },
  {
   "cell_type": "code",
   "execution_count": 280,
   "id": "a1e7b060",
   "metadata": {},
   "outputs": [],
   "source": [
    "df.dropna(inplace=True)"
   ]
  },
  {
   "cell_type": "markdown",
   "id": "386bc2b7",
   "metadata": {},
   "source": [
    "# Removing Duplicates to prevent Data Leakage"
   ]
  },
  {
   "cell_type": "code",
   "execution_count": 281,
   "id": "bbe5bb54",
   "metadata": {},
   "outputs": [
    {
     "data": {
      "text/plain": [
       "606"
      ]
     },
     "execution_count": 281,
     "metadata": {},
     "output_type": "execute_result"
    }
   ],
   "source": [
    "df.duplicated().sum()"
   ]
  },
  {
   "cell_type": "code",
   "execution_count": 282,
   "id": "0c29fb9b",
   "metadata": {},
   "outputs": [],
   "source": [
    "df.drop_duplicates(inplace=True)"
   ]
  },
  {
   "cell_type": "markdown",
   "id": "e6221f79",
   "metadata": {},
   "source": [
    "# Outliers Finding using box plot"
   ]
  },
  {
   "cell_type": "code",
   "execution_count": 283,
   "id": "1e509d3a",
   "metadata": {},
   "outputs": [],
   "source": [
    "num=[\"input\",\"output\"]"
   ]
  },
  {
   "cell_type": "code",
   "execution_count": 284,
   "id": "eff13042",
   "metadata": {
    "scrolled": false
   },
   "outputs": [
    {
     "data": {
      "image/png": "[encoded data removed]",
      "text/plain": [
       "<Figure size 432x288 with 1 Axes>"
      ]
     },
     "metadata": {
      "needs_background": "light"
     },
     "output_type": "display_data"
    },
    {
     "data": {
      "image/png": "[encoded data removed]",
      "text/plain": [
       "<Figure size 432x288 with 1 Axes>"
      ]
     },
     "metadata": {
      "needs_background": "light"
     },
     "output_type": "display_data"
    }
   ],
   "source": [
    "def out(col):\n",
    "    q1 = df[col].quantile(0.25)\n",
    "    q3 = df[col].quantile(0.75)\n",
    "    IQR = q3-q1\n",
    "    lb = q1-(1.5*IQR)\n",
    "    ub = q3+(1.5*IQR)\n",
    "    outliers = df[(df[col]<lb)|(df[col]>ub)].index\n",
    "    return outliers\n",
    "for i in num:\n",
    "    df.drop(out(i),inplace=True)\n",
    "    sns.boxplot(df[i])\n",
    "    plt.show()"
   ]
  },
  {
   "cell_type": "code",
   "execution_count": 310,
   "id": "e9a2fa78",
   "metadata": {},
   "outputs": [
    {
     "data": {
      "image/png": "[encoded data removed]",
      "text/plain": [
       "<Figure size 432x288 with 1 Axes>"
      ]
     },
     "metadata": {
      "needs_background": "light"
     },
     "output_type": "display_data"
    }
   ],
   "source": [
    "sns.distplot(df[\"input\"]);"
   ]
  },
  {
   "cell_type": "code",
   "execution_count": 312,
   "id": "c4f1caa1",
   "metadata": {},
   "outputs": [
    {
     "data": {
      "image/png": "[encoded data removed]",
      "text/plain": [
       "<Figure size 432x288 with 1 Axes>"
      ]
     },
     "metadata": {
      "needs_background": "light"
     },
     "output_type": "display_data"
    }
   ],
   "source": [
    "sns.distplot(df[\"output\"]);"
   ]
  },
  {
   "cell_type": "markdown",
   "id": "32dbbc9e",
   "metadata": {},
   "source": [
    "# Obersvations:\n",
    "- If we remove the outliers is causes the scaling problem"
   ]
  },
  {
   "cell_type": "markdown",
   "id": "d749621e",
   "metadata": {},
   "source": [
    "# Defining the input(X) and output(y) varaibles"
   ]
  },
  {
   "cell_type": "code",
   "execution_count": 285,
   "id": "e0ca17fc",
   "metadata": {},
   "outputs": [],
   "source": [
    "X=df[[\"input\"]]\n",
    "y=df[[\"output\"]]"
   ]
  },
  {
   "cell_type": "markdown",
   "id": "8a45343b",
   "metadata": {},
   "source": [
    "# Step 1 : Splitting the data into Train and test"
   ]
  },
  {
   "cell_type": "code",
   "execution_count": 296,
   "id": "f255a1b7",
   "metadata": {},
   "outputs": [],
   "source": [
    "from sklearn.model_selection import train_test_split\n",
    "X_train,X_test,y_train,y_test=train_test_split(X,y,test_size=0.25,random_state=42)"
   ]
  },
  {
   "cell_type": "markdown",
   "id": "323d0bc2",
   "metadata": {},
   "source": [
    "# Step 2 : Rescaling the Data "
   ]
  },
  {
   "cell_type": "code",
   "execution_count": 297,
   "id": "588b603c",
   "metadata": {},
   "outputs": [],
   "source": [
    "from sklearn.preprocessing import StandardScaler\n",
    "scaler=StandardScaler()"
   ]
  },
  {
   "cell_type": "markdown",
   "id": "3eab8e87",
   "metadata": {},
   "source": [
    "# Step 3: Fitting and Transforming  the Data"
   ]
  },
  {
   "cell_type": "code",
   "execution_count": 306,
   "id": "99425ab2",
   "metadata": {},
   "outputs": [],
   "source": [
    "# fit_tranfroming the data\n",
    "X_train_trans=scaler.fit_transform(X_train)\n",
    "X_test_trans=scaler.transform(X_test)"
   ]
  },
  {
   "cell_type": "markdown",
   "id": "06a45ef3",
   "metadata": {},
   "source": [
    "# Step 4,5 & 6 : building,predicting and evaluation of model "
   ]
  },
  {
   "cell_type": "markdown",
   "id": "1744d4ac",
   "metadata": {},
   "source": [
    "# LinearRegression"
   ]
  },
  {
   "cell_type": "code",
   "execution_count": 299,
   "id": "bfce22ed",
   "metadata": {},
   "outputs": [
    {
     "data": {
      "text/plain": [
       "44.52389299688643"
      ]
     },
     "execution_count": 299,
     "metadata": {},
     "output_type": "execute_result"
    }
   ],
   "source": [
    "# building the model\n",
    "from sklearn.linear_model import LinearRegression\n",
    "reg=LinearRegression()\n",
    "reg.fit(X_train,y_train)\n",
    "# prediction\n",
    "y_test_pred=reg.predict(X_test)\n",
    "# evaluation\n",
    "from sklearn import metrics\n",
    "metrics.mean_absolute_error(y_test,y_test_pred)"
   ]
  },
  {
   "cell_type": "markdown",
   "id": "345fe4b9",
   "metadata": {},
   "source": [
    "# DecisionTreeRegressor"
   ]
  },
  {
   "cell_type": "code",
   "execution_count": 300,
   "id": "d35ef81a",
   "metadata": {},
   "outputs": [
    {
     "data": {
      "text/plain": [
       "31.081662809185875"
      ]
     },
     "execution_count": 300,
     "metadata": {},
     "output_type": "execute_result"
    }
   ],
   "source": [
    "# building the model\n",
    "from sklearn.tree import DecisionTreeRegressor\n",
    "reg=DecisionTreeRegressor()\n",
    "reg.fit(X_train,y_train)\n",
    "# prediction\n",
    "y_test_pred=reg.predict(X_test)\n",
    "# evaluation\n",
    "from sklearn import metrics\n",
    "metrics.mean_absolute_error(y_test,y_test_pred)"
   ]
  },
  {
   "cell_type": "markdown",
   "id": "3d77833a",
   "metadata": {},
   "source": [
    "# Support Vector Regressor"
   ]
  },
  {
   "cell_type": "code",
   "execution_count": 301,
   "id": "466db51e",
   "metadata": {},
   "outputs": [
    {
     "data": {
      "text/plain": [
       "26.681016831147584"
      ]
     },
     "execution_count": 301,
     "metadata": {},
     "output_type": "execute_result"
    }
   ],
   "source": [
    "# building the model\n",
    "from sklearn.svm import SVR\n",
    "reg=SVR()\n",
    "reg.fit(X_train,y_train)\n",
    "# prediction\n",
    "y_test_pred=reg.predict(X_test)\n",
    "# evaluation\n",
    "from sklearn import metrics\n",
    "metrics.mean_absolute_error(y_test,y_test_pred)"
   ]
  },
  {
   "cell_type": "markdown",
   "id": "5502673b",
   "metadata": {},
   "source": [
    "# KNeighborsRegressor"
   ]
  },
  {
   "cell_type": "code",
   "execution_count": 302,
   "id": "f9057c47",
   "metadata": {},
   "outputs": [
    {
     "data": {
      "text/plain": [
       "24.565434037505582"
      ]
     },
     "execution_count": 302,
     "metadata": {},
     "output_type": "execute_result"
    }
   ],
   "source": [
    "# building the model\n",
    "from sklearn.neighbors import KNeighborsRegressor\n",
    "reg=KNeighborsRegressor()\n",
    "reg.fit(X_train,y_train)\n",
    "# prediction\n",
    "y_test_pred=reg.predict(X_test)\n",
    "# evaluation\n",
    "from sklearn import metrics\n",
    "metrics.mean_absolute_error(y_test,y_test_pred)"
   ]
  },
  {
   "cell_type": "markdown",
   "id": "584c1074",
   "metadata": {},
   "source": [
    "# RandomForestRegressor"
   ]
  },
  {
   "cell_type": "code",
   "execution_count": 303,
   "id": "8eb73fbf",
   "metadata": {},
   "outputs": [
    {
     "data": {
      "text/plain": [
       "27.356997563497117"
      ]
     },
     "execution_count": 303,
     "metadata": {},
     "output_type": "execute_result"
    }
   ],
   "source": [
    "# building the model\n",
    "from sklearn.ensemble import RandomForestRegressor\n",
    "reg=RandomForestRegressor()\n",
    "reg.fit(X_train,y_train)\n",
    "# prediction\n",
    "y_test_pred=reg.predict(X_test)\n",
    "# evaluation\n",
    "from sklearn import metrics\n",
    "metrics.mean_absolute_error(y_test,y_test_pred)"
   ]
  },
  {
   "cell_type": "markdown",
   "id": "f80670e9",
   "metadata": {},
   "source": [
    "# AdaBoostRegressor"
   ]
  },
  {
   "cell_type": "code",
   "execution_count": 304,
   "id": "9cb29f40",
   "metadata": {},
   "outputs": [
    {
     "data": {
      "text/plain": [
       "27.566128624024937"
      ]
     },
     "execution_count": 304,
     "metadata": {},
     "output_type": "execute_result"
    }
   ],
   "source": [
    "# building the model\n",
    "from sklearn.ensemble import AdaBoostRegressor\n",
    "reg=AdaBoostRegressor()\n",
    "reg.fit(X_train,y_train)\n",
    "# prediction\n",
    "y_test_pred=reg.predict(X_test)\n",
    "# evaluation\n",
    "from sklearn import metrics\n",
    "metrics.mean_absolute_error(y_test,y_test_pred)"
   ]
  },
  {
   "cell_type": "markdown",
   "id": "80db2b90",
   "metadata": {},
   "source": [
    "# GradientBoostingRegressor"
   ]
  },
  {
   "cell_type": "code",
   "execution_count": 305,
   "id": "993b8920",
   "metadata": {},
   "outputs": [
    {
     "data": {
      "text/plain": [
       "23.855854429862678"
      ]
     },
     "execution_count": 305,
     "metadata": {},
     "output_type": "execute_result"
    }
   ],
   "source": [
    "# building the model\n",
    "from sklearn.ensemble import GradientBoostingRegressor\n",
    "reg=GradientBoostingRegressor()\n",
    "reg.fit(X_train,y_train)\n",
    "# prediction\n",
    "y_test_pred=reg.predict(X_test)\n",
    "# evaluation\n",
    "from sklearn import metrics\n",
    "metrics.mean_absolute_error(y_test,y_test_pred)"
   ]
  },
  {
   "cell_type": "code",
   "execution_count": null,
   "id": "ec2b413b",
   "metadata": {},
   "outputs": [],
   "source": []
  },
  {
   "cell_type": "markdown",
   "id": "8e7d477c",
   "metadata": {},
   "source": [
    "# Conclusion\n",
    "\n",
    "- From above the results we say that Gradient Boosting Regressor is the best fit model to predict the output with less mean_absolute_error when compared to other models."
   ]
  },
  {
   "cell_type": "code",
   "execution_count": null,
   "id": "fcc7d3e1",
   "metadata": {},
   "outputs": [],
   "source": []
  }
 ],
 "metadata": {
  "kernelspec": {
   "display_name": "Python 3 (ipykernel)",
   "language": "python",
   "name": "python3"
  },
  "language_info": {
   "codemirror_mode": {
    "name": "ipython",
    "version": 3
   },
   "file_extension": ".py",
   "mimetype": "text/x-python",
   "name": "python",
   "nbconvert_exporter": "python",
   "pygments_lexer": "ipython3",
   "version": "3.9.12"
  }
 },
 "nbformat": 4,
 "nbformat_minor": 5
}
